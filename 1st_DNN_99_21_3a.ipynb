{
 "cells": [
  {
   "cell_type": "code",
   "execution_count": 1,
   "metadata": {
    "colab": {
     "base_uri": "https://localhost:8080/",
     "height": 34
    },
    "colab_type": "code",
    "id": "qK6mqqEULeJe",
    "outputId": "769b6b26-77c3-4896-d2a4-ec30871876d7"
   },
   "outputs": [
    {
     "name": "stderr",
     "output_type": "stream",
     "text": [
      "Using TensorFlow backend.\n"
     ]
    }
   ],
   "source": [
    "import keras\n",
    "\n",
    "import numpy as np\n",
    "from keras.models import Sequential\n",
    "from keras.layers import Dense, Dropout, Activation, Flatten, Add\n",
    "from keras.layers import Convolution2D, MaxPooling2D\n",
    "from keras.utils import np_utils\n",
    "from keras.layers.normalization import BatchNormalization\n",
    "from keras.datasets import mnist\n",
    "from keras.optimizers import SGD"
   ]
  },
  {
   "cell_type": "code",
   "execution_count": 0,
   "metadata": {
    "colab": {},
    "colab_type": "code",
    "id": "PigQ-V7wMBNN"
   },
   "outputs": [],
   "source": [
    "(X_train, y_train), (X_test, y_test) = mnist.load_data()"
   ]
  },
  {
   "cell_type": "code",
   "execution_count": 14,
   "metadata": {
    "colab": {
     "base_uri": "https://localhost:8080/",
     "height": 333
    },
    "colab_type": "code",
    "id": "Gg9DbVghMaXa",
    "outputId": "5d6fb723-2793-4fcb-9e02-3b27d930563d"
   },
   "outputs": [
    {
     "name": "stdout",
     "output_type": "stream",
     "text": [
      "X Shape:  (60000, 28, 28)\n",
      "Y[0] value: 5\n",
      "\n",
      "X[0] value as image:\n"
     ]
    },
    {
     "data": {
      "image/png": "[encoded data removed]",
      "text/plain": [
       "<matplotlib.figure.Figure at 0x7f16ecd10b38>"
      ]
     },
     "metadata": {
      "tags": []
     },
     "output_type": "display_data"
    }
   ],
   "source": [
    "print ('X Shape: ', X_train.shape)\n",
    "from matplotlib import pyplot as plt\n",
    "%matplotlib inline\n",
    "plt.imshow(X_train[0])\n",
    "print ('Y[0] value:', y_train[0])\n",
    "print ('\\nX[0] value as image:')"
   ]
  },
  {
   "cell_type": "code",
   "execution_count": 0,
   "metadata": {
    "colab": {},
    "colab_type": "code",
    "id": "pnUk-dBFMnhq"
   },
   "outputs": [],
   "source": [
    "X_train = X_train.reshape(X_train.shape[0], 28, 28,1)\n",
    "X_test = X_test.reshape(X_test.shape[0], 28, 28,1)"
   ]
  },
  {
   "cell_type": "code",
   "execution_count": 0,
   "metadata": {
    "colab": {},
    "colab_type": "code",
    "id": "EuvV0-OvOSdo"
   },
   "outputs": [],
   "source": [
    "X_train = X_train.astype('float32')\n",
    "X_test = X_test.astype('float32')\n",
    "X_train /= 255\n",
    "X_test /= 255"
   ]
  },
  {
   "cell_type": "code",
   "execution_count": 0,
   "metadata": {
    "colab": {},
    "colab_type": "code",
    "id": "dqOf9qfGOfm-"
   },
   "outputs": [],
   "source": [
    "# Convert 1-dimensional class arrays to 10-dimensional class matrices\n",
    "Y_train = np_utils.to_categorical(y_train, 10)\n",
    "Y_test = np_utils.to_categorical(y_test, 10)"
   ]
  },
  {
   "cell_type": "code",
   "execution_count": 22,
   "metadata": {
    "colab": {
     "base_uri": "https://localhost:8080/",
     "height": 187
    },
    "colab_type": "code",
    "id": "UAzV7vpeOi4P",
    "outputId": "5a98d7b9-36b8-4608-989f-c2dbdb218bfd"
   },
   "outputs": [
    {
     "data": {
      "text/plain": [
       "array([[0., 0., 0., 0., 0., 1., 0., 0., 0., 0.],\n",
       "       [1., 0., 0., 0., 0., 0., 0., 0., 0., 0.],\n",
       "       [0., 0., 0., 0., 1., 0., 0., 0., 0., 0.],\n",
       "       [0., 1., 0., 0., 0., 0., 0., 0., 0., 0.],\n",
       "       [0., 0., 0., 0., 0., 0., 0., 0., 0., 1.],\n",
       "       [0., 0., 1., 0., 0., 0., 0., 0., 0., 0.],\n",
       "       [0., 1., 0., 0., 0., 0., 0., 0., 0., 0.],\n",
       "       [0., 0., 0., 1., 0., 0., 0., 0., 0., 0.],\n",
       "       [0., 1., 0., 0., 0., 0., 0., 0., 0., 0.],\n",
       "       [0., 0., 0., 0., 1., 0., 0., 0., 0., 0.]], dtype=float32)"
      ]
     },
     "execution_count": 22,
     "metadata": {
      "tags": []
     },
     "output_type": "execute_result"
    }
   ],
   "source": [
    "Y_train[:10]"
   ]
  },
  {
   "cell_type": "code",
   "execution_count": 97,
   "metadata": {
    "colab": {
     "base_uri": "https://localhost:8080/",
     "height": 207
    },
    "colab_type": "code",
    "id": "ml0V5e5t1btQ",
    "outputId": "60f6450a-086a-439e-dc9d-393928245138"
   },
   "outputs": [
    {
     "name": "stderr",
     "output_type": "stream",
     "text": [
      "/usr/local/lib/python3.6/dist-packages/ipykernel_launcher.py:2: UserWarning: Update your `Conv2D` call to the Keras 2 API: `Conv2D(32, (3, 3), input_shape=(28, 28, 1...)`\n",
      "  \n",
      "/usr/local/lib/python3.6/dist-packages/ipykernel_launcher.py:6: UserWarning: Update your `Conv2D` call to the Keras 2 API: `Conv2D(32, (3, 3), input_shape=(28, 28, 1...)`\n",
      "  \n",
      "/usr/local/lib/python3.6/dist-packages/ipykernel_launcher.py:10: UserWarning: Update your `Conv2D` call to the Keras 2 API: `Conv2D(16, (3, 3), activation=\"relu\")`\n",
      "  # Remove the CWD from sys.path while we load stuff.\n",
      "/usr/local/lib/python3.6/dist-packages/ipykernel_launcher.py:13: UserWarning: Update your `Conv2D` call to the Keras 2 API: `Conv2D(10, (3, 3), activation=\"relu\")`\n",
      "  del sys.path[0]\n",
      "/usr/local/lib/python3.6/dist-packages/ipykernel_launcher.py:16: UserWarning: Update your `Conv2D` call to the Keras 2 API: `Conv2D(10, (3, 3), activation=\"relu\")`\n",
      "  app.launch_new_instance()\n"
     ]
    }
   ],
   "source": [
    "model = Sequential()\n",
    "model.add(Convolution2D(32, 3, 3, input_shape=(28,28,1)))\n",
    "model.add(Activation('relu'))\n",
    "model.add(BatchNormalization())\n",
    "model.add(MaxPooling2D(2,2))\n",
    "model.add(Convolution2D(32, 3, 3, input_shape=(28,28,1)))\n",
    "model.add(Activation('relu'))\n",
    "model.add(BatchNormalization())\n",
    "model.add(Dropout(0.25))\n",
    "model.add(Convolution2D(16, 3, 3, activation='relu'))\n",
    "model.add(Activation('relu'))\n",
    "model.add(BatchNormalization())\n",
    "model.add(Convolution2D(10, 3, 3, activation='relu'))\n",
    "model.add(Activation('relu'))\n",
    "model.add(BatchNormalization())\n",
    "model.add(Convolution2D(10, 3, 3, activation='relu'))\n",
    "model.add(Activation('relu'))\n",
    "model.add(BatchNormalization())\n",
    "model.add(Dropout(0.25))\n",
    "model.add(Convolution2D(10, 1, activation='relu'))\n",
    "model.add(BatchNormalization())\n",
    "model.add(Convolution2D(10, 5))\n",
    "model.add(Flatten())\n",
    "model.add(Activation('softmax'))"
   ]
  },
  {
   "cell_type": "code",
   "execution_count": 98,
   "metadata": {
    "colab": {
     "base_uri": "https://localhost:8080/",
     "height": 918
    },
    "colab_type": "code",
    "id": "6JarN2wh1uX0",
    "outputId": "9baf2687-0f32-48c3-faf1-0da8ac080cf4"
   },
   "outputs": [
    {
     "name": "stdout",
     "output_type": "stream",
     "text": [
      "_________________________________________________________________\n",
      "Layer (type)                 Output Shape              Param #   \n",
      "=================================================================\n",
      "conv2d_167 (Conv2D)          (None, 26, 26, 32)        320       \n",
      "_________________________________________________________________\n",
      "activation_126 (Activation)  (None, 26, 26, 32)        0         \n",
      "_________________________________________________________________\n",
      "batch_normalization_64 (Batc (None, 26, 26, 32)        128       \n",
      "_________________________________________________________________\n",
      "max_pooling2d_51 (MaxPooling (None, 13, 13, 32)        0         \n",
      "_________________________________________________________________\n",
      "conv2d_168 (Conv2D)          (None, 11, 11, 32)        9248      \n",
      "_________________________________________________________________\n",
      "activation_127 (Activation)  (None, 11, 11, 32)        0         \n",
      "_________________________________________________________________\n",
      "batch_normalization_65 (Batc (None, 11, 11, 32)        128       \n",
      "_________________________________________________________________\n",
      "dropout_54 (Dropout)         (None, 11, 11, 32)        0         \n",
      "_________________________________________________________________\n",
      "conv2d_169 (Conv2D)          (None, 9, 9, 16)          4624      \n",
      "_________________________________________________________________\n",
      "activation_128 (Activation)  (None, 9, 9, 16)          0         \n",
      "_________________________________________________________________\n",
      "batch_normalization_66 (Batc (None, 9, 9, 16)          64        \n",
      "_________________________________________________________________\n",
      "conv2d_170 (Conv2D)          (None, 7, 7, 10)          1450      \n",
      "_________________________________________________________________\n",
      "activation_129 (Activation)  (None, 7, 7, 10)          0         \n",
      "_________________________________________________________________\n",
      "batch_normalization_67 (Batc (None, 7, 7, 10)          40        \n",
      "_________________________________________________________________\n",
      "conv2d_171 (Conv2D)          (None, 5, 5, 10)          910       \n",
      "_________________________________________________________________\n",
      "activation_130 (Activation)  (None, 5, 5, 10)          0         \n",
      "_________________________________________________________________\n",
      "batch_normalization_68 (Batc (None, 5, 5, 10)          40        \n",
      "_________________________________________________________________\n",
      "dropout_55 (Dropout)         (None, 5, 5, 10)          0         \n",
      "_________________________________________________________________\n",
      "conv2d_172 (Conv2D)          (None, 5, 5, 10)          110       \n",
      "_________________________________________________________________\n",
      "batch_normalization_69 (Batc (None, 5, 5, 10)          40        \n",
      "_________________________________________________________________\n",
      "conv2d_173 (Conv2D)          (None, 1, 1, 10)          2510      \n",
      "_________________________________________________________________\n",
      "flatten_24 (Flatten)         (None, 10)                0         \n",
      "_________________________________________________________________\n",
      "activation_131 (Activation)  (None, 10)                0         \n",
      "=================================================================\n",
      "Total params: 19,612\n",
      "Trainable params: 19,392\n",
      "Non-trainable params: 220\n",
      "_________________________________________________________________\n"
     ]
    }
   ],
   "source": [
    "model.summary()"
   ]
  },
  {
   "cell_type": "code",
   "execution_count": 0,
   "metadata": {
    "colab": {},
    "colab_type": "code",
    "id": "iEdldHqO1wWv"
   },
   "outputs": [],
   "source": [
    "model.compile(loss='categorical_crossentropy',\n",
    "             optimizer='adam',\n",
    "             metrics=['accuracy'])"
   ]
  },
  {
   "cell_type": "code",
   "execution_count": 100,
   "metadata": {
    "colab": {
     "base_uri": "https://localhost:8080/",
     "height": 374
    },
    "colab_type": "code",
    "id": "hFarSARJ14V0",
    "outputId": "c1c6a8fb-5cca-42b1-8826-09ab7dfb15ff"
   },
   "outputs": [
    {
     "name": "stdout",
     "output_type": "stream",
     "text": [
      "Epoch 1/10\n",
      "60000/60000 [==============================] - 179s 3ms/step - loss: 0.2351 - acc: 0.9274\n",
      "Epoch 2/10\n",
      "60000/60000 [==============================] - 178s 3ms/step - loss: 0.0720 - acc: 0.9776\n",
      "Epoch 3/10\n",
      "60000/60000 [==============================] - 177s 3ms/step - loss: 0.0577 - acc: 0.9815\n",
      "Epoch 4/10\n",
      "60000/60000 [==============================] - 178s 3ms/step - loss: 0.0493 - acc: 0.9850\n",
      "Epoch 5/10\n",
      "60000/60000 [==============================] - 180s 3ms/step - loss: 0.0436 - acc: 0.9863\n",
      "Epoch 6/10\n",
      "60000/60000 [==============================] - 180s 3ms/step - loss: 0.0412 - acc: 0.9867\n",
      "Epoch 7/10\n",
      "60000/60000 [==============================] - 179s 3ms/step - loss: 0.0378 - acc: 0.9879\n",
      "Epoch 8/10\n",
      "60000/60000 [==============================] - 175s 3ms/step - loss: 0.0348 - acc: 0.9890\n",
      "Epoch 9/10\n",
      "60000/60000 [==============================] - 176s 3ms/step - loss: 0.0319 - acc: 0.9900\n",
      "Epoch 10/10\n",
      "60000/60000 [==============================] - 176s 3ms/step - loss: 0.0295 - acc: 0.9907\n"
     ]
    },
    {
     "data": {
      "text/plain": [
       "<keras.callbacks.History at 0x7f16e1232898>"
      ]
     },
     "execution_count": 100,
     "metadata": {
      "tags": []
     },
     "output_type": "execute_result"
    }
   ],
   "source": [
    "model.fit(X_train, Y_train, batch_size=32, epochs=10, verbose=1)"
   ]
  },
  {
   "cell_type": "code",
   "execution_count": 0,
   "metadata": {
    "colab": {},
    "colab_type": "code",
    "id": "c5iO_6IN6BWT"
   },
   "outputs": [],
   "source": [
    "score = model.evaluate(X_test, Y_test, verbose=0)"
   ]
  },
  {
   "cell_type": "code",
   "execution_count": 102,
   "metadata": {
    "colab": {
     "base_uri": "https://localhost:8080/",
     "height": 34
    },
    "colab_type": "code",
    "id": "kjcCJCZL6CuX",
    "outputId": "e8c05fa7-8ca6-440e-a93b-0b590f8cf0ee"
   },
   "outputs": [
    {
     "name": "stdout",
     "output_type": "stream",
     "text": [
      "[0.02657942500860954, 0.9921]\n"
     ]
    }
   ],
   "source": [
    "print(score)"
   ]
  },
  {
   "cell_type": "code",
   "execution_count": 0,
   "metadata": {
    "colab": {},
    "colab_type": "code",
    "id": "lcyWotU419Xf"
   },
   "outputs": [],
   "source": []
  }
 ],
 "metadata": {
  "colab": {
   "collapsed_sections": [],
   "name": "1st_DNN.ipynb",
   "provenance": [],
   "version": "0.3.2"
  },
  "kernelspec": {
   "display_name": "Python 3",
   "language": "python",
   "name": "python3"
  },
  "language_info": {
   "codemirror_mode": {
    "name": "ipython",
    "version": 3
   },
   "file_extension": ".py",
   "mimetype": "text/x-python",
   "name": "python",
   "nbconvert_exporter": "python",
   "pygments_lexer": "ipython3",
   "version": "3.6.4"
  }
 },
 "nbformat": 4,
 "nbformat_minor": 1
}
